{
  "nbformat": 4,
  "nbformat_minor": 0,
  "metadata": {
    "colab": {
      "provenance": []
    },
    "kernelspec": {
      "name": "python3",
      "display_name": "Python 3"
    },
    "language_info": {
      "name": "python"
    }
  },
  "cells": [
    {
      "cell_type": "code",
      "execution_count": 1,
      "metadata": {
        "colab": {
          "base_uri": "https://localhost:8080/",
          "height": 684
        },
        "id": "nMOt4Gq5604L",
        "outputId": "34922406-ce58-41e1-ecb4-a4eea9e91337"
      },
      "outputs": [
        {
          "output_type": "stream",
          "name": "stdout",
          "text": [
            "Downloading data from https://storage.googleapis.com/tensorflow/tf-keras-datasets/train-labels-idx1-ubyte.gz\n",
            "29515/29515 [==============================] - 0s 0us/step\n",
            "Downloading data from https://storage.googleapis.com/tensorflow/tf-keras-datasets/train-images-idx3-ubyte.gz\n",
            "26421880/26421880 [==============================] - 0s 0us/step\n",
            "Downloading data from https://storage.googleapis.com/tensorflow/tf-keras-datasets/t10k-labels-idx1-ubyte.gz\n",
            "5148/5148 [==============================] - 0s 0us/step\n",
            "Downloading data from https://storage.googleapis.com/tensorflow/tf-keras-datasets/t10k-images-idx3-ubyte.gz\n",
            "4422102/4422102 [==============================] - 0s 0us/step\n",
            "X_train boyutu: (60000, 28, 28)\n",
            "y_train boyutu: (60000,)\n",
            "X_test boyutu: (10000, 28, 28)\n",
            "y_test boyutu: (10000,)\n",
            "Görüntü boyutu: (28, 28)\n"
          ]
        },
        {
          "output_type": "display_data",
          "data": {
            "text/plain": [
              "<Figure size 2000x2000 with 10 Axes>"
            ],
            "image/png": "[encoded data removed]"
          },
          "metadata": {}
        },
        {
          "output_type": "stream",
          "name": "stdout",
          "text": [
            "Accuracy: 0.8541\n",
            "Classification Report:\n",
            "               precision    recall  f1-score   support\n",
            "\n",
            "           0       0.76      0.85      0.80      1000\n",
            "           1       0.98      0.97      0.98      1000\n",
            "           2       0.72      0.81      0.76      1000\n",
            "           3       0.91      0.85      0.88      1000\n",
            "           4       0.80      0.74      0.77      1000\n",
            "           5       0.99      0.83      0.91      1000\n",
            "           6       0.65      0.59      0.62      1000\n",
            "           7       0.89      0.95      0.92      1000\n",
            "           8       0.98      0.95      0.97      1000\n",
            "           9       0.89      0.97      0.93      1000\n",
            "\n",
            "    accuracy                           0.85     10000\n",
            "   macro avg       0.86      0.85      0.85     10000\n",
            "weighted avg       0.86      0.85      0.85     10000\n",
            "\n"
          ]
        }
      ],
      "source": [
        "import numpy as np\n",
        "import matplotlib.pyplot as plt\n",
        "from keras.datasets import fashion_mnist\n",
        "\n",
        "# Fashion MNIST veri setini yükle\n",
        "(X_train, y_train), (X_test, y_test) = fashion_mnist.load_data()\n",
        "\n",
        "# Veri setinin boyutlarını yazdır\n",
        "print(\"X_train boyutu:\", X_train.shape)\n",
        "print(\"y_train boyutu:\", y_train.shape)\n",
        "print(\"X_test boyutu:\", X_test.shape)\n",
        "print(\"y_test boyutu:\", y_test.shape)\n",
        "\n",
        "# Görüntülerin boyutlarını yazdır\n",
        "print(\"Görüntü boyutu:\", X_train[0].shape)\n",
        "\n",
        "# Örnek görüntüleri görselleştir\n",
        "fig, axes = plt.subplots(1, 10, figsize=(20, 20))\n",
        "for i in range(10):\n",
        "    axes[i].imshow(X_train[i], cmap='gray')\n",
        "    axes[i].axis('off')\n",
        "plt.show()\n",
        "\n",
        "# Verileri normalize et (0-255 aralığındaki değerleri 0-1 aralığına getir)\n",
        "X_train = X_train / 255.0\n",
        "X_test = X_test / 255.0\n",
        "\n",
        "from sklearn.neighbors import KNeighborsClassifier\n",
        "from sklearn.metrics import accuracy_score, classification_report\n",
        "\n",
        "# Verileri düzleştir (flatten) - KNN algoritması 2D yerine 1D verilerle çalışır\n",
        "X_train_flatten = X_train.reshape(X_train.shape[0], -1)\n",
        "X_test_flatten = X_test.reshape(X_test.shape[0], -1)\n",
        "\n",
        "# KNN modelini oluştur ve eğit\n",
        "knn = KNeighborsClassifier(n_neighbors=3)\n",
        "knn.fit(X_train_flatten, y_train)\n",
        "\n",
        "# Modeli test et ve sonuçları değerlendir\n",
        "y_pred = knn.predict(X_test_flatten)\n",
        "accuracy = accuracy_score(y_test, y_pred)\n",
        "print(\"Accuracy:\", accuracy)\n",
        "print(\"Classification Report:\\n\", classification_report(y_test, y_pred))\n"
      ]
    }
  ]
}